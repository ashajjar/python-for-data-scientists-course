{
 "cells": [
  {
   "cell_type": "code",
   "outputs": [],
   "source": [
    "import math\n",
    "import numpy as np\n",
    "from numpy.random import randn"
   ],
   "metadata": {
    "collapsed": false,
    "ExecuteTime": {
     "end_time": "2024-03-19T23:18:30.743667Z",
     "start_time": "2024-03-19T23:18:30.740632Z"
    }
   },
   "id": "fbac48fb6fec7883",
   "execution_count": 182
  },
  {
   "cell_type": "code",
   "outputs": [],
   "source": [
    "n1 = 10\n",
    "n2 = 100\n",
    "n3 = 1000"
   ],
   "metadata": {
    "collapsed": false,
    "ExecuteTime": {
     "end_time": "2024-03-19T23:18:30.747793Z",
     "start_time": "2024-03-19T23:18:30.745460Z"
    }
   },
   "id": "dc2c0712d518c654",
   "execution_count": 183
  },
  {
   "cell_type": "code",
   "outputs": [],
   "source": [
    "expected = 0.682"
   ],
   "metadata": {
    "collapsed": false,
    "ExecuteTime": {
     "end_time": "2024-03-19T23:18:30.750795Z",
     "start_time": "2024-03-19T23:18:30.748933Z"
    }
   },
   "id": "4e94a7333f369982",
   "execution_count": 184
  },
  {
   "cell_type": "code",
   "outputs": [],
   "source": [
    "def low_of_large_numbers(n):\n",
    "    heads_counter = 0\n",
    "    for coin in randn(n):\n",
    "        if -1 < coin < 1:\n",
    "            heads_counter += 1\n",
    "    x = (heads_counter / n)\n",
    "    error = expected - x\n",
    "    print(\"For n =\", n, \"heads count was:\", heads_counter)\n",
    "    print(\"X =\", x)\n",
    "    print(\"The error is\", error)\n"
   ],
   "metadata": {
    "collapsed": false,
    "ExecuteTime": {
     "end_time": "2024-03-19T23:26:20.279093Z",
     "start_time": "2024-03-19T23:26:20.270712Z"
    }
   },
   "id": "2fb9e72151598df5",
   "execution_count": 212
  },
  {
   "cell_type": "code",
   "outputs": [
    {
     "name": "stdout",
     "output_type": "stream",
     "text": [
      "For n = 10 heads count was: 7\n",
      "X = 0.7\n",
      "The error is -0.017999999999999905\n",
      "------\n",
      "For n = 100 heads count was: 68\n",
      "X = 0.68\n",
      "The error is 0.0020000000000000018\n",
      "------\n",
      "For n = 1000 heads count was: 667\n",
      "X = 0.667\n",
      "The error is 0.015000000000000013\n"
     ]
    }
   ],
   "source": [
    "low_of_large_numbers(n1)\n",
    "print(\"------\")\n",
    "low_of_large_numbers(n2)\n",
    "print(\"------\")\n",
    "low_of_large_numbers(n3)"
   ],
   "metadata": {
    "collapsed": false,
    "ExecuteTime": {
     "end_time": "2024-03-19T23:26:21.343392Z",
     "start_time": "2024-03-19T23:26:21.339641Z"
    }
   },
   "id": "23a831ec3f2f900f",
   "execution_count": 213
  },
  {
   "cell_type": "code",
   "outputs": [
    {
     "name": "stdout",
     "output_type": "stream",
     "text": [
      "For n = 10000000 heads count was: 6826446\n",
      "X = 0.6826446\n",
      "The error is -0.0006445999999999952\n"
     ]
    }
   ],
   "source": [
    "low_of_large_numbers(1000_0000)"
   ],
   "metadata": {
    "collapsed": false,
    "ExecuteTime": {
     "end_time": "2024-03-19T23:34:34.090177Z",
     "start_time": "2024-03-19T23:34:33.259653Z"
    }
   },
   "id": "9dcaea79da8ace2f",
   "execution_count": 219
  },
  {
   "cell_type": "code",
   "outputs": [
    {
     "data": {
      "text/plain": "1.0077899015419371"
     },
     "execution_count": 220,
     "metadata": {},
     "output_type": "execute_result"
    }
   ],
   "source": [
    "randn()"
   ],
   "metadata": {
    "collapsed": false,
    "ExecuteTime": {
     "end_time": "2024-03-20T20:28:57.218595Z",
     "start_time": "2024-03-20T20:28:57.203562Z"
    }
   },
   "id": "9e1ce63d715f79bf",
   "execution_count": 220
  },
  {
   "cell_type": "code",
   "outputs": [],
   "source": [
    "l = [1,2,3,4]"
   ],
   "metadata": {
    "collapsed": false,
    "ExecuteTime": {
     "end_time": "2024-03-20T20:42:39.189970Z",
     "start_time": "2024-03-20T20:42:39.186956Z"
    }
   },
   "id": "bf62230d4cd04018",
   "execution_count": 221
  },
  {
   "cell_type": "code",
   "outputs": [
    {
     "ename": "IndexError",
     "evalue": "list index out of range",
     "output_type": "error",
     "traceback": [
      "\u001B[0;31m---------------------------------------------------------------------------\u001B[0m",
      "\u001B[0;31mIndexError\u001B[0m                                Traceback (most recent call last)",
      "Cell \u001B[0;32mIn[223], line 1\u001B[0m\n\u001B[0;32m----> 1\u001B[0m \u001B[43ml\u001B[49m\u001B[43m[\u001B[49m\u001B[38;5;241;43m-\u001B[39;49m\u001B[38;5;241;43m12\u001B[39;49m\u001B[43m]\u001B[49m\n",
      "\u001B[0;31mIndexError\u001B[0m: list index out of range"
     ]
    }
   ],
   "source": [
    "l[]"
   ],
   "metadata": {
    "collapsed": false,
    "ExecuteTime": {
     "end_time": "2024-03-20T20:43:10.969612Z",
     "start_time": "2024-03-20T20:43:10.948376Z"
    }
   },
   "id": "f9973ec75a5565f0",
   "execution_count": 223
  },
  {
   "cell_type": "code",
   "outputs": [],
   "source": [
    "numbers = list(range(20))"
   ],
   "metadata": {
    "collapsed": false,
    "ExecuteTime": {
     "end_time": "2024-03-20T20:56:22.879992Z",
     "start_time": "2024-03-20T20:56:22.877788Z"
    }
   },
   "id": "12b668acfdcf53dc",
   "execution_count": 224
  },
  {
   "cell_type": "code",
   "outputs": [
    {
     "data": {
      "text/plain": "[19, 18, 17, 16, 15, 14, 13, 12, 11, 10, 9, 8, 7, 6, 5, 4, 3, 2, 1, 0]"
     },
     "execution_count": 228,
     "metadata": {},
     "output_type": "execute_result"
    }
   ],
   "source": [
    "numbers[::-1]"
   ],
   "metadata": {
    "collapsed": false,
    "ExecuteTime": {
     "end_time": "2024-03-20T20:56:56.347378Z",
     "start_time": "2024-03-20T20:56:56.343153Z"
    }
   },
   "id": "e9ead608a849e9be",
   "execution_count": 228
  },
  {
   "cell_type": "code",
   "outputs": [
    {
     "data": {
      "text/plain": "[0, 1, 2, 3, 4, 5, 6, 7, 8, 9, 10, 11, 12, 13, 14, 15, 16, 17, 18, 19]"
     },
     "execution_count": 229,
     "metadata": {},
     "output_type": "execute_result"
    }
   ],
   "source": [
    "numbers"
   ],
   "metadata": {
    "collapsed": false,
    "ExecuteTime": {
     "end_time": "2024-03-20T20:57:07.033824Z",
     "start_time": "2024-03-20T20:57:07.030865Z"
    }
   },
   "id": "ad40add382c8ab66",
   "execution_count": 229
  },
  {
   "cell_type": "code",
   "outputs": [],
   "source": [
    "l= len(numbers)"
   ],
   "metadata": {
    "collapsed": false,
    "ExecuteTime": {
     "end_time": "2024-03-20T20:58:25.557538Z",
     "start_time": "2024-03-20T20:58:25.554824Z"
    }
   },
   "id": "a1aba73783391736",
   "execution_count": 230
  },
  {
   "cell_type": "code",
   "outputs": [
    {
     "name": "stdout",
     "output_type": "stream",
     "text": [
      "[0, 1, 2, 3]\n",
      "[4, 5, 6, 7]\n",
      "[8, 9, 10, 11]\n",
      "[12, 13, 14, 15]\n",
      "[16, 17, 18, 19]\n"
     ]
    }
   ],
   "source": [
    "for i in range(0,l,4):\n",
    "    print(numbers[i:i+4])"
   ],
   "metadata": {
    "collapsed": false,
    "ExecuteTime": {
     "end_time": "2024-03-20T21:01:24.260937Z",
     "start_time": "2024-03-20T21:01:24.257314Z"
    }
   },
   "id": "c73d4494cebdeca9",
   "execution_count": 232
  },
  {
   "cell_type": "code",
   "outputs": [],
   "source": [
    "t = (1,2,3)"
   ],
   "metadata": {
    "collapsed": false,
    "ExecuteTime": {
     "end_time": "2024-03-20T21:04:21.356404Z",
     "start_time": "2024-03-20T21:04:21.353789Z"
    }
   },
   "id": "ba792902aedc15bc",
   "execution_count": 240
  },
  {
   "cell_type": "code",
   "outputs": [
    {
     "data": {
      "text/plain": "[10, 9, 8, 7, 6, 5, 4]"
     },
     "execution_count": 241,
     "metadata": {},
     "output_type": "execute_result"
    }
   ],
   "source": [
    "numbers[10:3:-1]"
   ],
   "metadata": {
    "collapsed": false,
    "ExecuteTime": {
     "end_time": "2024-03-20T21:04:24.478162Z",
     "start_time": "2024-03-20T21:04:24.469883Z"
    }
   },
   "id": "a31e4d5ca4266a5b",
   "execution_count": 241
  },
  {
   "cell_type": "code",
   "outputs": [
    {
     "data": {
      "text/plain": "(1, 2, 3)"
     },
     "execution_count": 242,
     "metadata": {},
     "output_type": "execute_result"
    }
   ],
   "source": [
    "t"
   ],
   "metadata": {
    "collapsed": false,
    "ExecuteTime": {
     "end_time": "2024-03-20T21:04:26.529449Z",
     "start_time": "2024-03-20T21:04:26.526332Z"
    }
   },
   "id": "13e4e1abcc454e5d",
   "execution_count": 242
  },
  {
   "cell_type": "code",
   "outputs": [
    {
     "ename": "TypeError",
     "evalue": "index expected at least 1 argument, got 0",
     "output_type": "error",
     "traceback": [
      "\u001B[0;31m---------------------------------------------------------------------------\u001B[0m",
      "\u001B[0;31mTypeError\u001B[0m                                 Traceback (most recent call last)",
      "Cell \u001B[0;32mIn[243], line 1\u001B[0m\n\u001B[0;32m----> 1\u001B[0m \u001B[43mt\u001B[49m\u001B[38;5;241;43m.\u001B[39;49m\u001B[43mindex\u001B[49m\u001B[43m(\u001B[49m\u001B[43m)\u001B[49m\n",
      "\u001B[0;31mTypeError\u001B[0m: index expected at least 1 argument, got 0"
     ]
    }
   ],
   "source": [],
   "metadata": {
    "collapsed": false,
    "ExecuteTime": {
     "end_time": "2024-03-20T21:04:45.541268Z",
     "start_time": "2024-03-20T21:04:45.532221Z"
    }
   },
   "id": "a1c46e5cd2a4d9b9",
   "execution_count": 243
  },
  {
   "cell_type": "code",
   "outputs": [],
   "source": [
    "t = (17,9,1985)"
   ],
   "metadata": {
    "collapsed": false,
    "ExecuteTime": {
     "end_time": "2024-03-20T21:08:06.520390Z",
     "start_time": "2024-03-20T21:08:06.518448Z"
    }
   },
   "id": "e0e43b58ebf2f505",
   "execution_count": 244
  },
  {
   "cell_type": "code",
   "outputs": [
    {
     "data": {
      "text/plain": "[17, 9, 1985]"
     },
     "execution_count": 245,
     "metadata": {},
     "output_type": "execute_result"
    }
   ],
   "source": [
    "list(t)"
   ],
   "metadata": {
    "collapsed": false,
    "ExecuteTime": {
     "end_time": "2024-03-20T21:08:14.352305Z",
     "start_time": "2024-03-20T21:08:14.349403Z"
    }
   },
   "id": "5ed6564c2e5d4e6f",
   "execution_count": 245
  },
  {
   "cell_type": "code",
   "outputs": [
    {
     "data": {
      "text/plain": "(17, 9, 1985)"
     },
     "execution_count": 246,
     "metadata": {},
     "output_type": "execute_result"
    }
   ],
   "source": [
    "t"
   ],
   "metadata": {
    "collapsed": false,
    "ExecuteTime": {
     "end_time": "2024-03-20T21:08:17.881640Z",
     "start_time": "2024-03-20T21:08:17.878474Z"
    }
   },
   "id": "27c3c997164dcc30",
   "execution_count": 246
  },
  {
   "cell_type": "code",
   "outputs": [],
   "source": [
    "import numpy as np"
   ],
   "metadata": {
    "collapsed": false,
    "ExecuteTime": {
     "end_time": "2024-03-20T21:21:34.433061Z",
     "start_time": "2024-03-20T21:21:34.430588Z"
    }
   },
   "id": "a06fa369a25169a6",
   "execution_count": 249
  },
  {
   "cell_type": "code",
   "outputs": [],
   "source": [
    "arr = list(range(10))"
   ],
   "metadata": {
    "collapsed": false,
    "ExecuteTime": {
     "end_time": "2024-03-20T21:21:57.472986Z",
     "start_time": "2024-03-20T21:21:57.471028Z"
    }
   },
   "id": "eed89dcd485d4d49",
   "execution_count": 250
  },
  {
   "cell_type": "code",
   "outputs": [
    {
     "data": {
      "text/plain": "[0, 1, 2, 3, 4, 5, 6, 7, 8, 9]"
     },
     "execution_count": 251,
     "metadata": {},
     "output_type": "execute_result"
    }
   ],
   "source": [
    "arr"
   ],
   "metadata": {
    "collapsed": false,
    "ExecuteTime": {
     "end_time": "2024-03-20T21:22:01.079593Z",
     "start_time": "2024-03-20T21:22:01.076512Z"
    }
   },
   "id": "681b58d2f21c10a9",
   "execution_count": 251
  },
  {
   "cell_type": "code",
   "outputs": [
    {
     "data": {
      "text/plain": "array([0, 1, 2, 3, 4, 5, 6, 7, 8, 9])"
     },
     "execution_count": 253,
     "metadata": {},
     "output_type": "execute_result"
    }
   ],
   "source": [
    "np.array(arr)"
   ],
   "metadata": {
    "collapsed": false,
    "ExecuteTime": {
     "end_time": "2024-03-20T21:22:24.075561Z",
     "start_time": "2024-03-20T21:22:24.072612Z"
    }
   },
   "id": "3c36b2629988914",
   "execution_count": 253
  },
  {
   "cell_type": "code",
   "outputs": [],
   "source": [
    "l = ['Ahmad',123,True]"
   ],
   "metadata": {
    "collapsed": false,
    "ExecuteTime": {
     "end_time": "2024-03-20T21:24:48.616532Z",
     "start_time": "2024-03-20T21:24:48.614221Z"
    }
   },
   "id": "7ad8d8c6b36d8f",
   "execution_count": 254
  },
  {
   "cell_type": "code",
   "outputs": [],
   "source": [
    "x = np.array(l)"
   ],
   "metadata": {
    "collapsed": false,
    "ExecuteTime": {
     "end_time": "2024-03-20T21:25:02.374307Z",
     "start_time": "2024-03-20T21:25:02.371504Z"
    }
   },
   "id": "52b602b3133a230f",
   "execution_count": 256
  },
  {
   "cell_type": "code",
   "outputs": [
    {
     "data": {
      "text/plain": "array(['Ahmad'], dtype='<U21')"
     },
     "execution_count": 266,
     "metadata": {},
     "output_type": "execute_result"
    }
   ],
   "source": [
    "x[:1]"
   ],
   "metadata": {
    "collapsed": false,
    "ExecuteTime": {
     "end_time": "2024-03-20T21:28:04.244385Z",
     "start_time": "2024-03-20T21:28:04.240578Z"
    }
   },
   "id": "692e5654974530e3",
   "execution_count": 266
  },
  {
   "cell_type": "code",
   "outputs": [
    {
     "ename": "IndexError",
     "evalue": "index 3 is out of bounds for axis 0 with size 3",
     "output_type": "error",
     "traceback": [
      "\u001B[0;31m---------------------------------------------------------------------------\u001B[0m",
      "\u001B[0;31mIndexError\u001B[0m                                Traceback (most recent call last)",
      "Cell \u001B[0;32mIn[264], line 1\u001B[0m\n\u001B[0;32m----> 1\u001B[0m \u001B[43mx\u001B[49m\u001B[38;5;241;43m.\u001B[39;49m\u001B[43mput\u001B[49m\u001B[43m(\u001B[49m\u001B[38;5;241;43m3\u001B[39;49m\u001B[43m,\u001B[49m\u001B[38;5;124;43m\"\u001B[39;49m\u001B[38;5;124;43mABC\u001B[39;49m\u001B[38;5;124;43m\"\u001B[39;49m\u001B[43m)\u001B[49m\n",
      "\u001B[0;31mIndexError\u001B[0m: index 3 is out of bounds for axis 0 with size 3"
     ]
    }
   ],
   "source": [
    "x.put(3,\"ABC\")"
   ],
   "metadata": {
    "collapsed": false,
    "ExecuteTime": {
     "end_time": "2024-03-20T21:26:51.050238Z",
     "start_time": "2024-03-20T21:26:51.030920Z"
    }
   },
   "id": "cd6c2a76f7e56688",
   "execution_count": 264
  },
  {
   "cell_type": "code",
   "outputs": [],
   "source": [
    "l = [1,2,3,4,5,6]"
   ],
   "metadata": {
    "collapsed": false,
    "ExecuteTime": {
     "end_time": "2024-03-20T21:31:00.112879Z",
     "start_time": "2024-03-20T21:31:00.110740Z"
    }
   },
   "id": "41e69e1473e3e0a9",
   "execution_count": 267
  },
  {
   "cell_type": "code",
   "outputs": [
    {
     "data": {
      "text/plain": "[1, 2, 3, 4, 5, 6]"
     },
     "execution_count": 268,
     "metadata": {},
     "output_type": "execute_result"
    }
   ],
   "source": [
    "l "
   ],
   "metadata": {
    "collapsed": false,
    "ExecuteTime": {
     "end_time": "2024-03-20T21:31:03.558436Z",
     "start_time": "2024-03-20T21:31:03.555641Z"
    }
   },
   "id": "7dcabda5e564f409",
   "execution_count": 268
  },
  {
   "cell_type": "code",
   "outputs": [
    {
     "ename": "IndexError",
     "evalue": "list assignment index out of range",
     "output_type": "error",
     "traceback": [
      "\u001B[0;31m---------------------------------------------------------------------------\u001B[0m",
      "\u001B[0;31mIndexError\u001B[0m                                Traceback (most recent call last)",
      "Cell \u001B[0;32mIn[269], line 1\u001B[0m\n\u001B[0;32m----> 1\u001B[0m \u001B[43ml\u001B[49m\u001B[43m[\u001B[49m\u001B[38;5;241;43m6\u001B[39;49m\u001B[43m]\u001B[49m \u001B[38;5;241m=\u001B[39m \u001B[38;5;241m12\u001B[39m\n",
      "\u001B[0;31mIndexError\u001B[0m: list assignment index out of range"
     ]
    }
   ],
   "source": [
    "l[6] = 12"
   ],
   "metadata": {
    "collapsed": false,
    "ExecuteTime": {
     "end_time": "2024-03-20T21:31:15.237499Z",
     "start_time": "2024-03-20T21:31:15.227058Z"
    }
   },
   "id": "2d1cb746e4a8425d",
   "execution_count": 269
  },
  {
   "cell_type": "code",
   "outputs": [],
   "source": [],
   "metadata": {
    "collapsed": false
   },
   "id": "58d316614c95c3c9"
  }
 ],
 "metadata": {
  "kernelspec": {
   "display_name": "Python 3",
   "language": "python",
   "name": "python3"
  },
  "language_info": {
   "codemirror_mode": {
    "name": "ipython",
    "version": 2
   },
   "file_extension": ".py",
   "mimetype": "text/x-python",
   "name": "python",
   "nbconvert_exporter": "python",
   "pygments_lexer": "ipython2",
   "version": "2.7.6"
  }
 },
 "nbformat": 4,
 "nbformat_minor": 5
}
